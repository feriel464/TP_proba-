{
 "cells": [
  {
   "cell_type": "markdown",
   "metadata": {},
   "source": [
    "# Simulation du jeux de LIDO simplifié\n",
    "\n",
    "\n",
    "# ferielremadi 2lM2\n"
   ]
  },
  {
   "cell_type": "markdown",
   "metadata": {},
   "source": [
    "## Principe\n",
    "On considére un jeux de Lido simple:\n",
    "on dispose d'un un seul pion.\n",
    "\n",
    "- Etape 0 :\n",
    "Le pion doit sort de sa prison lorsqu'on obtient un 6.\n",
    "\n",
    "- Etape 1 :\n",
    "Le pion doit atteindre exactement une position cible situé à N pas de distance de sa prison \n",
    "\n",
    "Soit $X_n$ la variable aléatoire qui represente le nombre de coup nécéssaire pour atteindre la positions cible.\n",
    "\n",
    "**Objectif 1** : Simuler le jeux \n",
    "\n",
    "**Objectif 2** : Calculer une estimation de l'éspérance mathématique de $X_n$ en utilisant `python`\n",
    "\n",
    "**Objéctif 3** : Observer la variation de $\\mathbb{E}(X_n)$ en fonction de $n$\n",
    "\n",
    "<img src=\"LIDO.png\">\n"
   ]
  },
  {
   "cell_type": "code",
   "execution_count": 1,
   "metadata": {},
   "outputs": [],
   "source": [
    "import numpy as np"
   ]
  },
  {
   "cell_type": "markdown",
   "metadata": {},
   "source": [
    "### Simulation du lancé de dé"
   ]
  },
  {
   "cell_type": "code",
   "execution_count": 2,
   "metadata": {},
   "outputs": [],
   "source": [
    "#on va calculer combient de fois le jour va lancé le dé pour sortir de prisson pour arriver a la sible \n",
    "def Roll(): #on lance le dé une seul fois pour obtenir un nombre entre 1 et 6\n",
    "    return int(np.random.choice(range(1,7),1))"
   ]
  },
  {
   "cell_type": "code",
   "execution_count": 3,
   "metadata": {},
   "outputs": [
    {
     "data": {
      "text/plain": [
       "2"
      ]
     },
     "execution_count": 3,
     "metadata": {},
     "output_type": "execute_result"
    }
   ],
   "source": [
    "Roll()"
   ]
  },
  {
   "cell_type": "markdown",
   "metadata": {},
   "source": [
    "### Compléter le code et commenter"
   ]
  },
  {
   "cell_type": "code",
   "execution_count": 4,
   "metadata": {
    "scrolled": false
   },
   "outputs": [
    {
     "name": "stdout",
     "output_type": "stream",
     "text": [
      "2 5\n",
      "3 1\n",
      "4 2\n",
      "5 2\n",
      "6 3\n",
      "7 3\n",
      "8 4\n",
      "9 1\n",
      "10 5\n",
      "11 5\n",
      "12 4\n",
      "13 2\n",
      "14 5\n",
      "15 2\n",
      "16 1\n",
      "17 6\n",
      "Sortie de la prisson aprés 17 coup\n",
      "18 5 6\n",
      "19 2 8\n",
      "20 6 8\n",
      "21 5 8\n",
      "22 4 8\n",
      "23 2 10\n"
     ]
    }
   ],
   "source": [
    "A=0 #position initiale \n",
    "NA=0 #nombre de cout \n",
    "S=10 #taille\n",
    "c=0\n",
    "temp=Roll() #Temp va prendre le lancement de dé \n",
    "NA+=1 \n",
    "while temp!=6: #Au cours du lancement si temp prend la valeur qui est different de 6 en va relancer une autrefois jusqu'à on obtient 6  \n",
    "    temp=Roll()\n",
    "    NA+=1 #et la on va incrimenter le nbr de cout a chaque fois en lance le dé\n",
    "    print(NA,temp)\n",
    "A=1\n",
    "print('Sortie de la prisson aprés {} coup'.format(NA))\n",
    "while (A<S) :#Tandque la  position est inférieure à taille de jeux\n",
    "    temp=Roll() #on lance le dé\n",
    "    if temp+A<S: #si la lancement de dé + notre postion est encore inferieur a celle de S  \n",
    "        NA+=1 #on ecrit nombre de cout \n",
    "        A+=temp #et puis on avance \n",
    "        print(NA,temp,A)\n",
    "    elif temp+A>S : #et si la lancement de dé + notre postion depasse la taille de  S \n",
    "        NA+=1 #on ecrit seulement nombre de cout\n",
    "        print(NA,temp,A)\n",
    "    else : \n",
    "        A=S #si non si A est egale a la taille S  \n",
    "        NA+=1 #on ecrit le nbr de cout et on sorte de jeux \n",
    "        print(NA,temp,A)"
   ]
  },
  {
   "cell_type": "markdown",
   "metadata": {},
   "source": [
    "### Simulation\n",
    "Ecrire une foction `sim` qui simule le jeux et qui prend comme variable le nombre de pas $n$ nécessazire pour atteindre la cible"
   ]
  },
  {
   "cell_type": "code",
   "execution_count": 5,
   "metadata": {},
   "outputs": [],
   "source": [
    "def sim(S):\n",
    "    A=0 \n",
    "    NA=0\n",
    "    temp=Roll()\n",
    "    NA+=1\n",
    "    while temp!=6:\n",
    "        temp=Roll()\n",
    "        NA+=1\n",
    "    A=1\n",
    "    while (A<S) :\n",
    "        temp=Roll()\n",
    "        if temp+A<S:\n",
    "            NA+=1\n",
    "            A+=temp\n",
    "        elif temp+A>S :\n",
    "            NA+=1\n",
    "        else : \n",
    "            A=S\n",
    "            NA+=1\n",
    "    return NA #la on va simuler le nombre de cout on va voir combient de fois je lance le dé pour que je fini le jeux \n",
    "   "
   ]
  },
  {
   "cell_type": "code",
   "execution_count": 6,
   "metadata": {},
   "outputs": [
    {
     "data": {
      "text/plain": [
       "5"
      ]
     },
     "execution_count": 6,
     "metadata": {},
     "output_type": "execute_result"
    }
   ],
   "source": [
    "sim(20)"
   ]
  },
  {
   "cell_type": "markdown",
   "metadata": {},
   "source": [
    "### Simulation de $10^5$  scénario "
   ]
  },
  {
   "cell_type": "code",
   "execution_count": 7,
   "metadata": {},
   "outputs": [
    {
     "name": "stdout",
     "output_type": "stream",
     "text": [
      "estimation de la moyenne de X_30=19.0746\n"
     ]
    }
   ],
   "source": [
    "L=[sim(30) for i in range (10000)] #on va faire la simulation pour 10000 fois  \n",
    "Moy=sum(L)/10000 #pour faire la moyenne \n",
    "print ('estimation de la moyenne de X_30={}'.format(Moy)) "
   ]
  },
  {
   "cell_type": "code",
   "execution_count": 8,
   "metadata": {},
   "outputs": [],
   "source": [
    "X=list(range(10,20)) #on va prendre la liste de x (abssices qui est entre 10 et 19)\n",
    "X\n",
    "y=[sum([sim(u)for i in range(10000)])/10000 for u in X] #et l'axe des ordonnées qui est la moyenne de chaque simulation "
   ]
  },
  {
   "cell_type": "code",
   "execution_count": 9,
   "metadata": {},
   "outputs": [
    {
     "name": "stderr",
     "output_type": "stream",
     "text": [
      "Matplotlib is building the font cache; this may take a moment.\n"
     ]
    }
   ],
   "source": [
    "import matplotlib.pyplot as plt"
   ]
  },
  {
   "cell_type": "code",
   "execution_count": 11,
   "metadata": {},
   "outputs": [
    {
     "data": {
      "image/png": "[encoded data removed]",
      "text/plain": [
       "<Figure size 432x288 with 1 Axes>"
      ]
     },
     "metadata": {
      "needs_background": "light"
     },
     "output_type": "display_data"
    }
   ],
   "source": [
    "plt.plot(X,y,'ob')\n",
    "plt.show() #puis on va afficher notre courbe "
   ]
  },
  {
   "cell_type": "code",
   "execution_count": 12,
   "metadata": {},
   "outputs": [],
   "source": [
    "from scipy import stats #on va calculer l'équation de cette courbe \n",
    "import numpy as py \n",
    "slope, intercept, r_value, p_value, std_err = stats.linregress(X,y)  "
   ]
  },
  {
   "cell_type": "code",
   "execution_count": 13,
   "metadata": {},
   "outputs": [
    {
     "data": {
      "text/plain": [
       "0.29211454545454546"
      ]
     },
     "execution_count": 13,
     "metadata": {},
     "output_type": "execute_result"
    }
   ],
   "source": [
    "slope #slope va donner pente a "
   ]
  },
  {
   "cell_type": "code",
   "execution_count": 14,
   "metadata": {},
   "outputs": [
    {
     "data": {
      "text/plain": [
       "10.369769090909092"
      ]
     },
     "execution_count": 14,
     "metadata": {},
     "output_type": "execute_result"
    }
   ],
   "source": [
    "intercept\n",
    "#intercept donne b (eq sous forme de aX+b)"
   ]
  },
  {
   "cell_type": "code",
   "execution_count": 15,
   "metadata": {},
   "outputs": [],
   "source": [
    "yy=[slope *u +intercept for u in X]"
   ]
  },
  {
   "cell_type": "code",
   "execution_count": 16,
   "metadata": {},
   "outputs": [
    {
     "data": {
      "text/plain": [
       "[<matplotlib.lines.Line2D at 0x17debc4ad60>,\n",
       " <matplotlib.lines.Line2D at 0x17debc4ad90>]"
      ]
     },
     "execution_count": 16,
     "metadata": {},
     "output_type": "execute_result"
    },
    {
     "data": {
      "image/png": "[encoded data removed]",
      "text/plain": [
       "<Figure size 432x288 with 1 Axes>"
      ]
     },
     "metadata": {
      "needs_background": "light"
     },
     "output_type": "display_data"
    }
   ],
   "source": [
    "plt.plot(X,y,'ob',X,yy,'-r')#on va dessiner une droite "
   ]
  },
  {
   "cell_type": "markdown",
   "metadata": {},
   "source": [
    "E(X_n)-=0.292114*n+10.3697 "
   ]
  },
  {
   "cell_type": "code",
   "execution_count": null,
   "metadata": {},
   "outputs": [],
   "source": [
    "#et voila mon equation "
   ]
  }
 ],
 "metadata": {
  "kernelspec": {
   "display_name": "Python 3",
   "language": "python",
   "name": "python3"
  },
  "language_info": {
   "codemirror_mode": {
    "name": "ipython",
    "version": 3
   },
   "file_extension": ".py",
   "mimetype": "text/x-python",
   "name": "python",
   "nbconvert_exporter": "python",
   "pygments_lexer": "ipython3",
   "version": "3.8.8"
  }
 },
 "nbformat": 4,
 "nbformat_minor": 4
}
